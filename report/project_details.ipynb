{
 "cells": [
  {
   "cell_type": "code",
   "execution_count": 1,
   "outputs": [
    {
     "name": "stderr",
     "output_type": "stream",
     "text": [
      "100%|██████████| 3/3 [00:02<00:00,  1.13it/s]\n",
      "100%|██████████| 3/3 [00:02<00:00,  1.08it/s]\n",
      "100%|██████████| 3/3 [00:02<00:00,  1.15it/s]\n",
      "100%|██████████| 3/3 [00:02<00:00,  1.11it/s]\n",
      "100%|██████████| 3/3 [00:02<00:00,  1.14it/s]\n",
      "100%|██████████| 3/3 [00:02<00:00,  1.09it/s]\n",
      "100%|██████████| 3/3 [00:02<00:00,  1.15it/s]\n",
      "100%|██████████| 3/3 [00:02<00:00,  1.09it/s]\n",
      "100%|██████████| 3/3 [00:02<00:00,  1.15it/s]\n",
      "100%|██████████| 3/3 [00:02<00:00,  1.15it/s]\n",
      "100%|██████████| 3/3 [00:02<00:00,  1.14it/s]\n",
      "100%|██████████| 3/3 [00:02<00:00,  1.17it/s]\n",
      "100%|██████████| 3/3 [00:02<00:00,  1.10it/s]\n",
      "100%|██████████| 3/3 [00:02<00:00,  1.10it/s]\n",
      "100%|██████████| 3/3 [00:02<00:00,  1.09it/s]\n",
      "100%|██████████| 3/3 [00:02<00:00,  1.11it/s]\n",
      "100%|██████████| 3/3 [00:02<00:00,  1.02it/s]\n",
      "100%|██████████| 3/3 [00:02<00:00,  1.06it/s]\n"
     ]
    }
   ],
   "source": [
    "from PitchGuesser import get_experiments\n",
    "\n",
    "experiments = get_experiments();"
   ],
   "metadata": {
    "collapsed": false,
    "pycharm": {
     "name": "#%%\n"
    }
   }
  },
  {
   "cell_type": "code",
   "execution_count": 22,
   "outputs": [],
   "source": [
    "with open('model.md', 'w') as fout:\n",
    "    for key, val in experiments.items():\n",
    "        for k, v in val.items():\n",
    "            if k == 'base':\n",
    "                fout.write(f'# {v.model_name}\\n***\\n')\n",
    "            fout.write(f'## {k.capitalize()}\\n***\\n')\n",
    "            fout.write(f'#### Class Report\\n')\n",
    "            fout.write(v.class_report().T.to_html(classes=['outtbl', 'CR']))\n",
    "            fout.write(f'\\n\\n#### Confusion Matrix\\n')\n",
    "            fout.write(v.cm.to_html(classes=['outtbl', 'CM']))\n",
    "            fout.write(f'\\n\\n')"
   ],
   "metadata": {
    "collapsed": false,
    "pycharm": {
     "name": "#%%\n"
    }
   }
  }
 ],
 "metadata": {
  "kernelspec": {
   "display_name": "Python 3",
   "language": "python",
   "name": "python3"
  },
  "language_info": {
   "codemirror_mode": {
    "name": "ipython",
    "version": 2
   },
   "file_extension": ".py",
   "mimetype": "text/x-python",
   "name": "python",
   "nbconvert_exporter": "python",
   "pygments_lexer": "ipython2",
   "version": "2.7.6"
  }
 },
 "nbformat": 4,
 "nbformat_minor": 0
}