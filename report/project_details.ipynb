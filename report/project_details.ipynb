{
 "cells": [
  {
   "cell_type": "code",
   "execution_count": 1,
   "outputs": [
    {
     "name": "stderr",
     "output_type": "stream",
     "text": [
      "100%|██████████| 3/3 [00:02<00:00,  1.13it/s]\n",
      "100%|██████████| 3/3 [00:02<00:00,  1.08it/s]\n",
      "100%|██████████| 3/3 [00:02<00:00,  1.15it/s]\n",
      "100%|██████████| 3/3 [00:02<00:00,  1.11it/s]\n",
      "100%|██████████| 3/3 [00:02<00:00,  1.14it/s]\n",
      "100%|██████████| 3/3 [00:02<00:00,  1.09it/s]\n",
      "100%|██████████| 3/3 [00:02<00:00,  1.15it/s]\n",
      "100%|██████████| 3/3 [00:02<00:00,  1.09it/s]\n",
      "100%|██████████| 3/3 [00:02<00:00,  1.15it/s]\n",
      "100%|██████████| 3/3 [00:02<00:00,  1.15it/s]\n",
      "100%|██████████| 3/3 [00:02<00:00,  1.14it/s]\n",
      "100%|██████████| 3/3 [00:02<00:00,  1.17it/s]\n",
      "100%|██████████| 3/3 [00:02<00:00,  1.10it/s]\n",
      "100%|██████████| 3/3 [00:02<00:00,  1.10it/s]\n",
      "100%|██████████| 3/3 [00:02<00:00,  1.09it/s]\n",
      "100%|██████████| 3/3 [00:02<00:00,  1.11it/s]\n",
      "100%|██████████| 3/3 [00:02<00:00,  1.02it/s]\n",
      "100%|██████████| 3/3 [00:02<00:00,  1.06it/s]\n"
     ]
    }
   ],
   "source": [
    "from PitchGuesser import get_experiments\n",
    "\n",
    "experiments = get_experiments();"
   ],
   "metadata": {
    "collapsed": false,
    "pycharm": {
     "name": "#%%\n"
    }
   }
  },
  {
   "cell_type": "code",
   "execution_count": 30,
   "outputs": [],
   "source": [
    "with open('model.md', 'w') as fout:\n",
    "    for key, val in experiments.items():\n",
    "        for k, v in val.items():\n",
    "            if k == 'base':\n",
    "                fout.write(f'## {v.model_name}\\n***\\n')\n",
    "            fout.write(f'### {k.capitalize()}\\n***\\n')\n",
    "            fout.write(f'#### Class Report\\n')\n",
    "            fout.write(v.class_report().T.to_html(classes=['outtbl', 'CR']))\n",
    "            fout.write(f'\\n\\n#### Confusion Matrix\\n')\n",
    "            fout.write(v.cm.to_html(classes=['outtbl', 'CM']))\n",
    "            fout.write(f'\\n\\n')"
   ],
   "metadata": {
    "collapsed": false,
    "pycharm": {
     "name": "#%%\n"
    }
   }
  },
  {
   "cell_type": "code",
   "execution_count": 33,
   "outputs": [],
   "source": [
    "import matplotlib\n",
    "import matplotlib.pyplot as plt\n",
    "import seaborn as sns\n",
    "\n",
    "matplotlib.use('Agg')\n",
    "matplotlib.style.use('ggplot')\n",
    "\n",
    "rfc = experiments['RFC']['base']\n",
    "df_full = rfc.raw_data[rfc.features['numeric'] + ['pitch_name']].sample(500, replace=False).reset_index(drop=True)\n",
    "\n",
    "def pair_plots():\n",
    "    sns.set()\n",
    "    sns.pairplot(\n",
    "        df_full[['release_pos_x', 'release_pos_z', 'release_extension', 'pitch_name']],\n",
    "        hue=\"pitch_name\"\n",
    "    ).figure.savefig(f\"plots/release.png\")\n",
    "    sns.pairplot(\n",
    "        df_full[['pfx_x', 'pfx_z', 'sz_top', 'sz_bot', 'pitch_name']],\n",
    "        hue=\"pitch_name\"\n",
    "    ).figure.savefig(f\"plots/position.png\")\n",
    "    sns.pairplot(\n",
    "        df_full[['release_speed', 'release_spin_rate', 'spin_axis', 'pitch_name']],\n",
    "        hue=\"pitch_name\"\n",
    "    ).figure.savefig(f\"plots/spin.png\")\n",
    "    sns.pairplot(\n",
    "        df_full[['vx0', 'vy0', 'vz0', 'pitch_name']],\n",
    "        hue=\"pitch_name\"\n",
    "    ).figure.savefig(f\"plots/velocity.png\")\n",
    "    sns.pairplot(\n",
    "        df_full[['ax', 'ay', 'az', 'pitch_name']],\n",
    "        hue=\"pitch_name\"\n",
    "    ).figure.savefig(f\"plots/acceleration.png\")\n",
    "\n",
    "pair_plots();"
   ],
   "metadata": {
    "collapsed": false,
    "pycharm": {
     "name": "#%%\n"
    }
   }
  },
  {
   "cell_type": "code",
   "execution_count": 43,
   "outputs": [],
   "source": [
    "import numpy as np\n",
    "\n",
    "def show_correlation():\n",
    "    cor = df_full.corr(method='pearson')\n",
    "    fig, ax = plt.subplots(figsize=(8, 6))\n",
    "    plt.title(\"Correlation Plot\")\n",
    "    pair_plt = sns.heatmap(\n",
    "        cor,\n",
    "        mask=np.zeros_like(cor, dtype=np.bool_),\n",
    "        cmap=sns.diverging_palette(220, 10, as_cmap=True),\n",
    "        square=True,\n",
    "        ax=ax\n",
    "    )\n",
    "    plt.tight_layout(pad=0.4, w_pad=0.5)\n",
    "    pair_plt.figure.savefig(f\"plots/correlation.png\")\n",
    "    return cor\n",
    "\n",
    "show_correlation();"
   ],
   "metadata": {
    "collapsed": false,
    "pycharm": {
     "name": "#%%\n"
    }
   }
  }
 ],
 "metadata": {
  "kernelspec": {
   "display_name": "Python 3",
   "language": "python",
   "name": "python3"
  },
  "language_info": {
   "codemirror_mode": {
    "name": "ipython",
    "version": 2
   },
   "file_extension": ".py",
   "mimetype": "text/x-python",
   "name": "python",
   "nbconvert_exporter": "python",
   "pygments_lexer": "ipython2",
   "version": "2.7.6"
  }
 },
 "nbformat": 4,
 "nbformat_minor": 0
}