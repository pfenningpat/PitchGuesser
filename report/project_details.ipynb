{
 "cells": [
  {
   "cell_type": "code",
   "execution_count": 1,
   "outputs": [
    {
     "name": "stderr",
     "output_type": "stream",
     "text": [
      "100%|██████████| 3/3 [00:02<00:00,  1.13it/s]\n",
      "100%|██████████| 3/3 [00:02<00:00,  1.08it/s]\n",
      "100%|██████████| 3/3 [00:02<00:00,  1.15it/s]\n",
      "100%|██████████| 3/3 [00:02<00:00,  1.11it/s]\n",
      "100%|██████████| 3/3 [00:02<00:00,  1.14it/s]\n",
      "100%|██████████| 3/3 [00:02<00:00,  1.09it/s]\n",
      "100%|██████████| 3/3 [00:02<00:00,  1.15it/s]\n",
      "100%|██████████| 3/3 [00:02<00:00,  1.09it/s]\n",
      "100%|██████████| 3/3 [00:02<00:00,  1.15it/s]\n",
      "100%|██████████| 3/3 [00:02<00:00,  1.15it/s]\n",
      "100%|██████████| 3/3 [00:02<00:00,  1.14it/s]\n",
      "100%|██████████| 3/3 [00:02<00:00,  1.17it/s]\n",
      "100%|██████████| 3/3 [00:02<00:00,  1.10it/s]\n",
      "100%|██████████| 3/3 [00:02<00:00,  1.10it/s]\n",
      "100%|██████████| 3/3 [00:02<00:00,  1.09it/s]\n",
      "100%|██████████| 3/3 [00:02<00:00,  1.11it/s]\n",
      "100%|██████████| 3/3 [00:02<00:00,  1.02it/s]\n",
      "100%|██████████| 3/3 [00:02<00:00,  1.06it/s]\n"
     ]
    }
   ],
   "source": [
    "from PitchGuesser import get_experiments\n",
    "\n",
    "experiments = get_experiments();"
   ],
   "metadata": {
    "collapsed": false,
    "pycharm": {
     "name": "#%%\n"
    }
   }
  },
  {
   "cell_type": "code",
   "execution_count": 30,
   "outputs": [],
   "source": [
    "with open('model.md', 'w') as fout:\n",
    "    for key, val in experiments.items():\n",
    "        for k, v in val.items():\n",
    "            if k == 'base':\n",
    "                fout.write(f'## {v.model_name}\\n***\\n')\n",
    "            fout.write(f'### {k.capitalize()}\\n***\\n')\n",
    "            fout.write(f'#### Class Report\\n')\n",
    "            fout.write(v.class_report().T.to_html(classes=['outtbl', 'CR']))\n",
    "            fout.write(f'\\n\\n#### Confusion Matrix\\n')\n",
    "            fout.write(v.cm.to_html(classes=['outtbl', 'CM']))\n",
    "            fout.write(f'\\n\\n')"
   ],
   "metadata": {
    "collapsed": false,
    "pycharm": {
     "name": "#%%\n"
    }
   }
  },
  {
   "cell_type": "code",
   "execution_count": 33,
   "outputs": [],
   "source": [
    "import matplotlib\n",
    "import matplotlib.pyplot as plt\n",
    "import seaborn as sns\n",
    "\n",
    "matplotlib.use('Agg')\n",
    "matplotlib.style.use('ggplot')\n",
    "\n",
    "rfc = experiments['RFC']['base']\n",
    "df_full = rfc.raw_data[rfc.features['numeric'] + ['pitch_name']].sample(500, replace=False).reset_index(drop=True)\n",
    "\n",
    "def pair_plots():\n",
    "    sns.set()\n",
    "    sns.pairplot(\n",
    "        df_full[['release_pos_x', 'release_pos_z', 'release_extension', 'pitch_name']],\n",
    "        hue=\"pitch_name\"\n",
    "    ).figure.savefig(f\"plots/release.png\")\n",
    "    sns.pairplot(\n",
    "        df_full[['pfx_x', 'pfx_z', 'sz_top', 'sz_bot', 'pitch_name']],\n",
    "        hue=\"pitch_name\"\n",
    "    ).figure.savefig(f\"plots/position.png\")\n",
    "    sns.pairplot(\n",
    "        df_full[['release_speed', 'release_spin_rate', 'spin_axis', 'pitch_name']],\n",
    "        hue=\"pitch_name\"\n",
    "    ).figure.savefig(f\"plots/spin.png\")\n",
    "    sns.pairplot(\n",
    "        df_full[['vx0', 'vy0', 'vz0', 'pitch_name']],\n",
    "        hue=\"pitch_name\"\n",
    "    ).figure.savefig(f\"plots/velocity.png\")\n",
    "    sns.pairplot(\n",
    "        df_full[['ax', 'ay', 'az', 'pitch_name']],\n",
    "        hue=\"pitch_name\"\n",
    "    ).figure.savefig(f\"plots/acceleration.png\")\n",
    "\n",
    "pair_plots();"
   ],
   "metadata": {
    "collapsed": false,
    "pycharm": {
     "name": "#%%\n"
    }
   }
  },
  {
   "cell_type": "code",
   "execution_count": 43,
   "outputs": [],
   "source": [
    "import numpy as np\n",
    "\n",
    "def show_correlation():\n",
    "    cor = df_full.corr(method='pearson')\n",
    "    fig, ax = plt.subplots(figsize=(8, 6))\n",
    "    plt.title(\"Correlation Plot\")\n",
    "    pair_plt = sns.heatmap(\n",
    "        cor,\n",
    "        mask=np.zeros_like(cor, dtype=np.bool_),\n",
    "        cmap=sns.diverging_palette(220, 10, as_cmap=True),\n",
    "        square=True,\n",
    "        ax=ax\n",
    "    )\n",
    "    plt.tight_layout(pad=0.4, w_pad=0.5)\n",
    "    pair_plt.figure.savefig(f\"plots/correlation.png\")\n",
    "    return cor\n",
    "\n",
    "show_correlation();"
   ],
   "metadata": {
    "collapsed": false,
    "pycharm": {
     "name": "#%%\n"
    }
   }
  },
  {
   "cell_type": "code",
   "execution_count": 45,
   "outputs": [
    {
     "data": {
      "text/plain": "              0         1         2         3         4         5         6  \\\n0      2.858801  0.204128 -0.745058 -0.790016  1.119572  1.906890  0.585538   \n1      1.274984  0.738429  0.085350  2.134678 -2.148157 -4.442759 -0.260232   \n2      1.409430 -1.328450 -4.158323  2.574210 -0.098318  0.943908  0.329399   \n3      1.861274  0.824273  1.184254 -4.021242  0.081801  1.716468  0.403362   \n4     -1.298144  0.844228 -1.340268  1.673334 -2.368318  0.237625  0.619383   \n...         ...       ...       ...       ...       ...       ...       ...   \n28956  2.432540  1.056759  2.925354  2.221425  0.927159 -0.434491 -0.737167   \n28957 -2.344469  0.495887  0.908312  0.260609  0.516982 -0.682341 -0.613791   \n28958 -1.451885 -0.214064  0.347230  1.125210  1.379418 -1.340176  1.326324   \n28959  2.778593 -0.764476  0.200302 -1.911085 -1.871262 -4.154585  0.127005   \n28960 -3.022927  0.201109  0.577665 -0.950097 -2.941855  0.658015 -0.988445   \n\n              7         8         9  \n0      1.372381 -0.569121  0.766793  \n1     -0.327914 -0.231484 -0.872383  \n2     -0.012364 -0.219017 -0.132928  \n3     -0.824631  0.003585  1.001570  \n4      2.081845 -0.615905  0.270777  \n...         ...       ...       ...  \n28956 -1.953968  2.429802  0.052823  \n28957 -0.551685 -0.455564  0.622529  \n28958 -0.360055 -0.111784 -0.196025  \n28959 -0.318226 -1.356383 -1.095211  \n28960  0.462055  0.026696 -0.664323  \n\n[28961 rows x 10 columns]",
      "text/html": "<div>\n<style scoped>\n    .dataframe tbody tr th:only-of-type {\n        vertical-align: middle;\n    }\n\n    .dataframe tbody tr th {\n        vertical-align: top;\n    }\n\n    .dataframe thead th {\n        text-align: right;\n    }\n</style>\n<table border=\"1\" class=\"dataframe\">\n  <thead>\n    <tr style=\"text-align: right;\">\n      <th></th>\n      <th>0</th>\n      <th>1</th>\n      <th>2</th>\n      <th>3</th>\n      <th>4</th>\n      <th>5</th>\n      <th>6</th>\n      <th>7</th>\n      <th>8</th>\n      <th>9</th>\n    </tr>\n  </thead>\n  <tbody>\n    <tr>\n      <th>0</th>\n      <td>2.858801</td>\n      <td>0.204128</td>\n      <td>-0.745058</td>\n      <td>-0.790016</td>\n      <td>1.119572</td>\n      <td>1.906890</td>\n      <td>0.585538</td>\n      <td>1.372381</td>\n      <td>-0.569121</td>\n      <td>0.766793</td>\n    </tr>\n    <tr>\n      <th>1</th>\n      <td>1.274984</td>\n      <td>0.738429</td>\n      <td>0.085350</td>\n      <td>2.134678</td>\n      <td>-2.148157</td>\n      <td>-4.442759</td>\n      <td>-0.260232</td>\n      <td>-0.327914</td>\n      <td>-0.231484</td>\n      <td>-0.872383</td>\n    </tr>\n    <tr>\n      <th>2</th>\n      <td>1.409430</td>\n      <td>-1.328450</td>\n      <td>-4.158323</td>\n      <td>2.574210</td>\n      <td>-0.098318</td>\n      <td>0.943908</td>\n      <td>0.329399</td>\n      <td>-0.012364</td>\n      <td>-0.219017</td>\n      <td>-0.132928</td>\n    </tr>\n    <tr>\n      <th>3</th>\n      <td>1.861274</td>\n      <td>0.824273</td>\n      <td>1.184254</td>\n      <td>-4.021242</td>\n      <td>0.081801</td>\n      <td>1.716468</td>\n      <td>0.403362</td>\n      <td>-0.824631</td>\n      <td>0.003585</td>\n      <td>1.001570</td>\n    </tr>\n    <tr>\n      <th>4</th>\n      <td>-1.298144</td>\n      <td>0.844228</td>\n      <td>-1.340268</td>\n      <td>1.673334</td>\n      <td>-2.368318</td>\n      <td>0.237625</td>\n      <td>0.619383</td>\n      <td>2.081845</td>\n      <td>-0.615905</td>\n      <td>0.270777</td>\n    </tr>\n    <tr>\n      <th>...</th>\n      <td>...</td>\n      <td>...</td>\n      <td>...</td>\n      <td>...</td>\n      <td>...</td>\n      <td>...</td>\n      <td>...</td>\n      <td>...</td>\n      <td>...</td>\n      <td>...</td>\n    </tr>\n    <tr>\n      <th>28956</th>\n      <td>2.432540</td>\n      <td>1.056759</td>\n      <td>2.925354</td>\n      <td>2.221425</td>\n      <td>0.927159</td>\n      <td>-0.434491</td>\n      <td>-0.737167</td>\n      <td>-1.953968</td>\n      <td>2.429802</td>\n      <td>0.052823</td>\n    </tr>\n    <tr>\n      <th>28957</th>\n      <td>-2.344469</td>\n      <td>0.495887</td>\n      <td>0.908312</td>\n      <td>0.260609</td>\n      <td>0.516982</td>\n      <td>-0.682341</td>\n      <td>-0.613791</td>\n      <td>-0.551685</td>\n      <td>-0.455564</td>\n      <td>0.622529</td>\n    </tr>\n    <tr>\n      <th>28958</th>\n      <td>-1.451885</td>\n      <td>-0.214064</td>\n      <td>0.347230</td>\n      <td>1.125210</td>\n      <td>1.379418</td>\n      <td>-1.340176</td>\n      <td>1.326324</td>\n      <td>-0.360055</td>\n      <td>-0.111784</td>\n      <td>-0.196025</td>\n    </tr>\n    <tr>\n      <th>28959</th>\n      <td>2.778593</td>\n      <td>-0.764476</td>\n      <td>0.200302</td>\n      <td>-1.911085</td>\n      <td>-1.871262</td>\n      <td>-4.154585</td>\n      <td>0.127005</td>\n      <td>-0.318226</td>\n      <td>-1.356383</td>\n      <td>-1.095211</td>\n    </tr>\n    <tr>\n      <th>28960</th>\n      <td>-3.022927</td>\n      <td>0.201109</td>\n      <td>0.577665</td>\n      <td>-0.950097</td>\n      <td>-2.941855</td>\n      <td>0.658015</td>\n      <td>-0.988445</td>\n      <td>0.462055</td>\n      <td>0.026696</td>\n      <td>-0.664323</td>\n    </tr>\n  </tbody>\n</table>\n<p>28961 rows × 10 columns</p>\n</div>"
     },
     "execution_count": 45,
     "metadata": {},
     "output_type": "execute_result"
    }
   ],
   "source": [
    "experiments['RFC']['transform'].X_test"
   ],
   "metadata": {
    "collapsed": false,
    "pycharm": {
     "name": "#%%\n"
    }
   }
  }
 ],
 "metadata": {
  "kernelspec": {
   "display_name": "Python 3",
   "language": "python",
   "name": "python3"
  },
  "language_info": {
   "codemirror_mode": {
    "name": "ipython",
    "version": 2
   },
   "file_extension": ".py",
   "mimetype": "text/x-python",
   "name": "python",
   "nbconvert_exporter": "python",
   "pygments_lexer": "ipython2",
   "version": "2.7.6"
  }
 },
 "nbformat": 4,
 "nbformat_minor": 0
}